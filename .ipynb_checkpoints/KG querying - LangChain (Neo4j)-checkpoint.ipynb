{
 "cells": [
  {
   "cell_type": "markdown",
   "id": "1b49b238",
   "metadata": {},
   "source": [
    "### Playing around with LangChain on Knowledge Graphs, specifically on a Neo4j database.\n",
    "\n",
    "-------\n",
    "\n",
    "Credits:\n",
    "* https://python.langchain.com/docs/use_cases/graph/quickstart/ "
   ]
  },
  {
   "cell_type": "code",
   "execution_count": 1,
   "id": "d22fb3e0",
   "metadata": {},
   "outputs": [],
   "source": [
    "import getpass\n",
    "import os"
   ]
  },
  {
   "cell_type": "code",
   "execution_count": 3,
   "id": "3588ac28",
   "metadata": {},
   "outputs": [
    {
     "name": "stdout",
     "output_type": "stream",
     "text": [
      "········\n"
     ]
    }
   ],
   "source": [
    "os.environ[\"OPENAI_API_KEY\"] = getpass.getpass()"
   ]
  },
  {
   "cell_type": "code",
   "execution_count": null,
   "id": "1be59192",
   "metadata": {},
   "outputs": [],
   "source": []
  }
 ],
 "metadata": {
  "kernelspec": {
   "display_name": "Python 3",
   "language": "python",
   "name": "python3"
  },
  "language_info": {
   "codemirror_mode": {
    "name": "ipython",
    "version": 3
   },
   "file_extension": ".py",
   "mimetype": "text/x-python",
   "name": "python",
   "nbconvert_exporter": "python",
   "pygments_lexer": "ipython3",
   "version": "3.8.18"
  }
 },
 "nbformat": 4,
 "nbformat_minor": 5
}
